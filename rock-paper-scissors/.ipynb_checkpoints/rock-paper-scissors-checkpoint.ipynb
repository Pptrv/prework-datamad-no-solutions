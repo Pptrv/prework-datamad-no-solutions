{
 "cells": [
  {
   "cell_type": "markdown",
   "metadata": {},
   "source": [
    "# Rock Paper Scissors\n",
    "\n",
    "Let's play the famous game against our computer.\n",
    "\n",
    "https://en.wikipedia.org/wiki/Rock%E2%80%93paper%E2%80%93scissors\n",
    "\n",
    "The use of functions is recommended\n",
    "\n",
    "## Goals\n",
    "1. Use of loop\n",
    "2. Data capture by console\n",
    "3. Use if-elif-else\n",
    "4. Use of try-except\n",
    "5. Definition of functions. Modular programming\n",
    "6. Logical operators.\n",
    "7. Print\n",
    "8. Import modules"
   ]
  },
  {
   "cell_type": "code",
   "execution_count": 4,
   "metadata": {},
   "outputs": [
    {
     "ename": "NameError",
     "evalue": "name 'rounds_played' is not defined",
     "output_type": "error",
     "traceback": [
      "\u001b[0;31m---------------------------------------------------------------------------\u001b[0m",
      "\u001b[0;31mNameError\u001b[0m                                 Traceback (most recent call last)",
      "\u001b[0;32m<ipython-input-4-79943c8e00e8>\u001b[0m in \u001b[0;36m<module>\u001b[0;34m\u001b[0m\n\u001b[1;32m    104\u001b[0m \u001b[0;34m\u001b[0m\u001b[0m\n\u001b[1;32m    105\u001b[0m \u001b[0;34m\u001b[0m\u001b[0m\n\u001b[0;32m--> 106\u001b[0;31m \u001b[0;32mwhile\u001b[0m \u001b[0mrounds_played\u001b[0m \u001b[0;34m<\u001b[0m \u001b[0mn_rounds\u001b[0m \u001b[0;32mand\u001b[0m \u001b[0mcpu_score\u001b[0m \u001b[0;34m<\u001b[0m \u001b[0mrounds_to_win\u001b[0m \u001b[0;32mand\u001b[0m \u001b[0mplayer_score\u001b[0m \u001b[0;34m<\u001b[0m \u001b[0mrounds_to_win\u001b[0m\u001b[0;34m:\u001b[0m\u001b[0;34m\u001b[0m\u001b[0;34m\u001b[0m\u001b[0m\n\u001b[0m\u001b[1;32m    107\u001b[0m       \u001b[0mrounds_played\u001b[0m \u001b[0;34m+=\u001b[0m \u001b[0;36m1\u001b[0m\u001b[0;34m\u001b[0m\u001b[0;34m\u001b[0m\u001b[0m\n\u001b[1;32m    108\u001b[0m \u001b[0;34m\u001b[0m\u001b[0m\n",
      "\u001b[0;31mNameError\u001b[0m: name 'rounds_played' is not defined"
     ]
    }
   ],
   "source": []
  },
  {
   "cell_type": "markdown",
   "metadata": {},
   "source": [
    "**Expected output**: Depends on the inputs, you know how to play and what to expect. "
   ]
  },
  {
   "cell_type": "markdown",
   "metadata": {},
   "source": [
    "# Bonus: Stone, paper, scissors, lizard, spock\n",
    "\n",
    "Now the improvement begins.\n",
    "\n",
    "![](images/rpsls.jpg)\n",
    "\n",
    "\n",
    "http://www.samkass.com/theories/RPSSL.html\n",
    "\n",
    "You are asked to impliment some improvements with respect to the simple previous game. In addition, the number of games (which must be ODD) will be requested per console until a valid number is entered.\n",
    "\n",
    "Improvements:\n",
    "* 5 options: stone, paper, scissors, lizard, spock\n",
    "* The number of games is requested per console\n",
    "Tip: Reuse code that you already use. If you have programmed intelligently, the bonus are simple modifications to the original game."
   ]
  },
  {
   "cell_type": "code",
   "execution_count": 7,
   "metadata": {},
   "outputs": [
    {
     "name": "stdout",
     "output_type": "stream",
     "text": [
      "\n",
      "- - - - - - - - - - - - - - - - - - - - \n",
      "WELCOME TO ROCK, PAPER, SCISSORS!\n",
      "- - - - - - - - - - - - - - - - - - - - \n",
      "\n",
      "Round 1/1\n",
      "Choose one of ['rock', 'paper', 'scissors']\n",
      "paper\n",
      "\n",
      "(YOU) paper vs paper (CPU)\n",
      "IT'S A TIE...\n",
      "\n",
      "SCORE - (You) 0 vs 0 (CPU)\n",
      "\n",
      "- - - - - - - - - - - - - - - - - - - - -\n",
      "Round 1/1\n",
      "Choose one of ['rock', 'paper', 'scissors']\n",
      "paper\n",
      "\n",
      "(YOU) paper vs rock (CPU)\n",
      "YOU WIN!\n",
      "\n",
      "SCORE - (You) 1 vs 0 (CPU)\n",
      "\n",
      "- - - - - - - - - - - - - - - - - - - - -\n",
      "YOU WON THE GAME1-0\n",
      "- - - - - - - - - - - - - - - - - - - - \n"
     ]
    }
   ],
   "source": [
    "from random import choice\n",
    "\n",
    "def cpu():\n",
    "    gestures = [\"rock\", \"paper\", \"scissors\"]\n",
    "    return choice(gestures)\n",
    "\n",
    "\n",
    "def player():\n",
    "    gestures = [\"rock\", \"paper\", \"scissors\"]\n",
    "    player_input = None\n",
    "    while player_input not in gestures:\n",
    "        print(f\"Choose one of {gestures}\")\n",
    "        player_input = input()\n",
    "    return player_input\n",
    "\n",
    "\n",
    "def get_winner(player_input, cpu_input):\n",
    "    result = None\n",
    "    if player_input == \"rock\":\n",
    "        if cpu_input == \"rock\":\n",
    "            result = 0\n",
    "        elif cpu_input == \"paper\":\n",
    "            result = 1\n",
    "        else:\n",
    "            result = 2\n",
    "    elif player_input == \"paper\":\n",
    "        if cpu_input == \"rock\":\n",
    "            result = 2\n",
    "        elif cpu_input == \"paper\":\n",
    "            result = 0\n",
    "        else:\n",
    "            result = 1\n",
    "    else:\n",
    "        if cpu_input == \"rock\":\n",
    "            result = 1\n",
    "        elif cpu_input == \"paper\":\n",
    "            result = 2\n",
    "        else:\n",
    "            result = 0\n",
    "    return result\n",
    "\n",
    "\n",
    "def print_round_summary(player_input, cpu_input, winner, player_score, cpu_score):\n",
    "    print(\"\")\n",
    "    print(f\"(YOU) {player_input} vs {cpu_input} (CPU)\")\n",
    "\n",
    "    if winner == 1:\n",
    "        print(\"CPU WINS...\")\n",
    "    elif winner == 2:\n",
    "        print(\"YOU WIN!\")\n",
    "    else:\n",
    "        print(\"IT'S A TIE...\")\n",
    "\n",
    "    print(\"\")\n",
    "    print(f\"SCORE - (You) {player_score} vs {cpu_score} (CPU)\")\n",
    "    print(\"\")\n",
    "\n",
    "\n",
    "def print_welcome():\n",
    "    print(\"\")\n",
    "    print(f\"- - - - - - - - - - - - - - - - - - - - \")\n",
    "    print(\"WELCOME TO ROCK, PAPER, SCISSORS!\")\n",
    "    print(f\"- - - - - - - - - - - - - - - - - - - - \")\n",
    "    print(\"\")\n",
    "\n",
    "\n",
    "def rpc(n_rounds, rounds_to_win):\n",
    "    rounds_played = 0\n",
    "    player_score = 0\n",
    "    cpu_score = 0\n",
    "\n",
    "    print_welcome()\n",
    "\n",
    "    while rounds_played < n_rounds and cpu_score < rounds_to_win and player_score < rounds_to_win:\n",
    "\n",
    "        print(f\"Round {rounds_played+1}/{n_rounds}\")\n",
    "        player_input = player()\n",
    "        cpu_input = cpu()\n",
    "        winner = get_winner(player_input, cpu_input)\n",
    "\n",
    "        if winner == 1:\n",
    "            cpu_score += 1\n",
    "            rounds_played += 1\n",
    "        elif winner == 2:\n",
    "            player_score += 1\n",
    "            rounds_played += 1\n",
    "\n",
    "        print_round_summary(player_input, cpu_input, winner, player_score, cpu_score)\n",
    "        print(f\"- - - - - - - - - - - - - - - - - - - - -\")\n",
    "\n",
    "    if player_score > cpu_score:\n",
    "        print(f\"YOU WON THE GAME{player_score}-{cpu_score}\")\n",
    "    else:\n",
    "        print(f\"YOU LOST THE GAME {player_score}-{cpu_score}\")\n",
    "    print(f\"- - - - - - - - - - - - - - - - - - - - \")\n",
    "\n",
    "\n",
    "rpc(1, 1)"
   ]
  },
  {
   "cell_type": "markdown",
   "metadata": {},
   "source": [
    "**Expected output**: Depends on the inputs, you know how to play and what to expect. "
   ]
  },
  {
   "cell_type": "code",
   "execution_count": null,
   "metadata": {},
   "outputs": [],
   "source": []
  }
 ],
 "metadata": {
  "kernelspec": {
   "display_name": "Python 3",
   "language": "python",
   "name": "python3"
  },
  "language_info": {
   "codemirror_mode": {
    "name": "ipython",
    "version": 3
   },
   "file_extension": ".py",
   "mimetype": "text/x-python",
   "name": "python",
   "nbconvert_exporter": "python",
   "pygments_lexer": "ipython3",
   "version": "3.7.7"
  }
 },
 "nbformat": 4,
 "nbformat_minor": 2
}
